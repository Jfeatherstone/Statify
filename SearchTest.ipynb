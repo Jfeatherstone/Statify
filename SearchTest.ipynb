{
 "cells": [
  {
   "cell_type": "code",
   "execution_count": 1,
   "id": "ed45e10b-b889-4c49-a8a0-57ab1ac1aaa9",
   "metadata": {},
   "outputs": [],
   "source": [
    "import spotipy\n",
    "\n",
    "import numpy as np\n",
    "import seaborn as sns\n",
    "import matplotlib.pyplot as plt\n",
    "import mpld3\n",
    "from matplotlib.patches import Polygon\n",
    "from mpl_toolkits.mplot3d.art3d import PolyCollection\n",
    "\n",
    "plt.rcParams[\"figure.dpi\"] = 140\n",
    "plt.rcParams[\"font.size\"] = 14\n",
    "import DataProcessing as da\n",
    "\n",
    "from sklearn.decomposition import PCA\n",
    "from sklearn.discriminant_analysis import LinearDiscriminantAnalysis\n",
    "from sklearn import datasets\n",
    "\n",
    "import pandas as pd\n",
    "import alphashape as ap\n",
    "from descartes import PolygonPatch\n",
    "import tqdm\n",
    "\n",
    "import colour"
   ]
  },
  {
   "cell_type": "code",
   "execution_count": 2,
   "id": "2a187c9c-b29d-47dd-abd6-4f2a7028bbe1",
   "metadata": {},
   "outputs": [],
   "source": [
    "spotify = da.authenticate()"
   ]
  },
  {
   "cell_type": "code",
   "execution_count": 13,
   "id": "4c00071e-bdb2-4620-b0e9-d303d733ba92",
   "metadata": {},
   "outputs": [
    {
     "name": "stdout",
     "output_type": "stream",
     "text": [
      "['Glimpse of Us', 'Die For You', 'SLOW DANCING IN THE DARK', 'Sanctuary', '1AM FREESTYLE', 'Feeling Like The End', 'YEAH RIGHT', 'YUKON (INTERLUDE)', 'Like You Do', 'worldstar money (interlude)']\n"
     ]
    }
   ],
   "source": [
    "searchResults = spotify.search('Joji', type='track')\n",
    "\n",
    "print([s['name'] for s in searchResults['tracks']['items']])"
   ]
  },
  {
   "cell_type": "code",
   "execution_count": null,
   "id": "8a0a9d0a-0393-44e3-8371-986fd1aa0f07",
   "metadata": {},
   "outputs": [],
   "source": []
  }
 ],
 "metadata": {
  "kernelspec": {
   "display_name": "Python 3 (ipykernel)",
   "language": "python",
   "name": "python3"
  },
  "language_info": {
   "codemirror_mode": {
    "name": "ipython",
    "version": 3
   },
   "file_extension": ".py",
   "mimetype": "text/x-python",
   "name": "python",
   "nbconvert_exporter": "python",
   "pygments_lexer": "ipython3",
   "version": "3.7.13"
  }
 },
 "nbformat": 4,
 "nbformat_minor": 5
}
